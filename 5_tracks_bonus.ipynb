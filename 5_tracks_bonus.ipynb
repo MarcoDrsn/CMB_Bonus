{
 "cells": [
  {
   "attachments": {},
   "cell_type": "markdown",
   "metadata": {},
   "source": [
    "# Train Simulation\n",
    "\n",
    "## Overview\n",
    "A train network operator wants to find the minimum number of parallel tracks in the train network so that mean delay is smaller than 10 minutes.\n",
    "\n",
    "- The network has ten track segments and five stations. Each segment has a fixed number of parallel tracks that indicate how many trains can be on the segment at the same time.\n",
    "\n",
    "- The number of parallel tracks can only be set for all segments at once.\n",
    "\n",
    "- Each train has a departure station and an arrival station. These are randomly chosen from the five stations.\n",
    "\n",
    "- A train must pass through a sequence of segments in the correct order to reach its destination. The sequence of segments that a train must pass through is determined by the departure and arrival stations of the train. Passing thorugh one segment always takes 15 minutes.\n",
    "\n",
    "- When a train requests access to a segment, it must wait until a track becomes available. The time spent waiting is recorded in a list called `delays`.\n",
    "\n",
    "- After a train has passed through a segment, it continues on to the next segment in the sequence until it reaches its destination.\n",
    "\n",
    "- There are 500 trains. 25 Trains are ready to leave the station every 30 minutes beginning at minute 0 of the simulation time.\n",
    "\n",
    "## Scenario Analysis\n",
    "\n",
    "The network operator wants to keep the mean delay below 30 minutes.<br>\n",
    "Determine the minimum number of parallel tracks that achieve that goal. <br>\n",
    "Consider 800 operational minutes of the network. <br>\n",
    "There is no need to account for possible trains who have not arrived\n",
    "in their destination after the operational minutes.\n",
    "\n",
    "\n",
    "## Task\n",
    "Setup the simulation and find the optimal capacity for the resources according to the business goal.<br>\n",
    "Do so, by utilizing the code which plots the performance against the capacity.<br>\n",
    "Use comments to provide your answer.<br>\n",
    "It is not required to comment your code.<br>\n",
    "However, it may help yourself and us to keep track of what you're doing.\n",
    "\n",
    "Hand in the filled out notebook by Feb 10th 2023 03:00 PM via mail to feddersen@bwl.uni-kiel.de and cleophas@bwl.uni-kiel.de."
   ]
  },
  {
   "cell_type": "code",
   "execution_count": 61,
   "metadata": {},
   "outputs": [],
   "source": [
    "### IMPORTS\n",
    "\n",
    "import simpy\n",
    "import numpy as np\n",
    "import matplotlib.pyplot as plt\n",
    "np.random.seed(110)\n",
    "\n",
    "\n",
    "### ENTITY PROCESS\n",
    "# One train passing which passes through its segment_path, waiting for segments to become available\n",
    "\n",
    "\"\"\"def train():\n",
    "    pass\"\"\"\n",
    "    \n",
    "### STATIC WORLD INFORMATION\n",
    "\n",
    "passthrough_time = 15\n",
    "operation_minutes = 800\n",
    "n_trains = 500\n",
    "\n",
    "earliest_dep = np.repeat(np.arange(0,571,30),repeats=n_trains / 20)\n",
    "\n",
    "def create_segments_and_paths(env,num_parallel_tracks):\n",
    "\n",
    "    \"\"\"\n",
    "    Create ten track segments represented by simpy resources.\n",
    "\n",
    "    Each track segment has a fixed number of parallel tracks which indicates\n",
    "    how many trains can be on the segment at the same time.\n",
    "    The number of parallel tracks is the same across all segments.\n",
    "    All segments form a list called 'segments'.\n",
    "\n",
    "    A sequence of segments connects each pair of five stations.\n",
    "    The dictionary 'segment_paths' describes how each pair of stations\n",
    "    is connected by a sequence of segments.\n",
    "    The keys are said pairs of stations and the values are the sequences of segments.\n",
    "\n",
    "    The function returns the list of segments and the dictionary of segment paths.\n",
    "    This means that the function returns two values as a tuple.\n",
    "\n",
    "    It can be used to add resources to the environment 'env'.\n",
    "\n",
    "    Example:\n",
    "    segments, segment_paths = create_segments_and_paths(env,2)\n",
    "\n",
    "    Now, segments is a list of ten simpy resources and segment_paths is a dictionary.\n",
    "    \n",
    "\n",
    "    \"\"\"\n",
    "\n",
    "    segment1 = simpy.Resource(env, num_parallel_tracks)\n",
    "    segment2 = simpy.Resource(env, num_parallel_tracks)\n",
    "    segment3 = simpy.Resource(env, num_parallel_tracks)\n",
    "    segment4 = simpy.Resource(env, num_parallel_tracks)\n",
    "    segment5 = simpy.Resource(env, num_parallel_tracks)\n",
    "    segment6 = simpy.Resource(env, num_parallel_tracks)\n",
    "    segment7  = simpy.Resource(env, num_parallel_tracks)\n",
    "    segment8 = simpy.Resource(env, num_parallel_tracks)\n",
    "    segment9 = simpy.Resource(env, num_parallel_tracks)\n",
    "    segment10 = simpy.Resource(env, num_parallel_tracks)\n",
    "\n",
    "    segment_paths = {\n",
    "        (1, 2): [segment1, segment3, segment5],\n",
    "        (1, 3): [segment1, segment2, segment4, segment6],\n",
    "        (1, 4): [segment1, segment7, segment8],\n",
    "        (1, 5): [segment1, segment9, segment10],\n",
    "        (2, 3): [segment2, segment4, segment6],\n",
    "        (2, 4): [segment2, segment5, segment7, segment8],\n",
    "        (2, 5): [segment2, segment5, segment9, segment10],\n",
    "        (3, 4): [segment3, segment7, segment8],\n",
    "        (3, 5): [segment3, segment9, segment10],\n",
    "        (4, 5): [segment4, segment8, segment9, segment10],\n",
    "    }\n",
    "    add_to_dict = {}\n",
    "    for (start, end), segments in segment_paths.items():\n",
    "        add_to_dict[(end, start)] = segments[::-1]\n",
    "\n",
    "    segment_paths.update(add_to_dict)\n",
    "\n",
    "    segments = [segment1, segment2, segment3, segment4, segment5, segment6, segment7, segment8, segment9, segment10]\n",
    "    return segments, segment_paths\n",
    "\n",
    "### RANDOM ENTITTY INFORMATION\n",
    "# Random start and end points for each of the trains \n",
    "# Departure and arrival nodes must not be the same\n",
    "\n",
    "start_end_points = np.random.randint(low=1,high=5,size=(20,25,2))\n",
    "\n",
    "### SCENARIO ANALYSIS\n",
    "parallel_tracks = list(range(1,21))                 # Liste mit den verschiedenen Anzahlen von parallelen Strecken\n",
    "mean_delays = []                                    # Liste mit mittlerer Wartezeit für verschiedene Szenarien\n",
    "for num_parallel_tracks in parallel_tracks:\n",
    "\n",
    "    pass\n",
    "\n",
    "    # Create the segments and the segment_paths dictionary using the create_segments_and_paths function"
   ]
  },
  {
   "cell_type": "code",
   "execution_count": 176,
   "metadata": {},
   "outputs": [],
   "source": [
    "# One train passing which passes through its segment_path, waiting for segments to become available\n",
    "\n",
    "# 1. Irgendwoher brauchen wir entweder schon als Parameter oder innerhalb der Funktion den Segment (Quelle: Dictionary)\n",
    "# 2. Irgendwie muss die Funktion durch die Segmente vom Segment Path iterrieren\n",
    "# 3. Departure wird immer zu den \"Wellenzeitpunkten\" sein und dafür haben wir (earliest_dep???)\n",
    "\n",
    "def train(env,train_id,segment_path,passthrough_time=15,departure=0):\n",
    "    yield env.timeout(departure)\n",
    "    print(f'Train {train_id} starts at {env.now}')\n",
    "    for segment in segment_path:\n",
    "        with segment.request() as seg:\n",
    "            yield seg\n",
    "            print(f'Train {train_id} is now on the next segment')\n",
    "            yield env.timeout(passthrough_time)\n",
    "        print(f'Train {train_id} arrives at: {env.now}')"
   ]
  },
  {
   "cell_type": "code",
   "execution_count": 177,
   "metadata": {},
   "outputs": [
    {
     "name": "stdout",
     "output_type": "stream",
     "text": [
      "Train 1 starts at 20\n",
      "Train 2 starts at 20\n",
      "Train 1 is now on the next segment\n",
      "Train 1 arrives at: 35\n",
      "Train 1 is now on the next segment\n",
      "Train 2 is now on the next segment\n",
      "Train 1 arrives at: 50\n",
      "Train 2 arrives at: 50\n",
      "Train 1 is now on the next segment\n",
      "Train 2 is now on the next segment\n"
     ]
    }
   ],
   "source": [
    "env = simpy.Environment()\n",
    "segments, segment_paths = create_segments_and_paths(env,1)\n",
    "env.process(train(env,1,segment_paths[1,2],departure=20))\n",
    "env.process(train(env,2,segment_paths[1,2],departure=20))\n",
    "\n",
    "env.run(60)"
   ]
  },
  {
   "cell_type": "code",
   "execution_count": 2,
   "metadata": {},
   "outputs": [
    {
     "ename": "ValueError",
     "evalue": "x and y must have same first dimension, but have shapes (20,) and (0,)",
     "output_type": "error",
     "traceback": [
      "\u001b[1;31m---------------------------------------------------------------------------\u001b[0m",
      "\u001b[1;31mValueError\u001b[0m                                Traceback (most recent call last)",
      "\u001b[1;32mc:\\Users\\Marco\\Desktop\\CMB_Bonus\\5_tracks_bonus.ipynb Cell 3\u001b[0m in \u001b[0;36m<cell line: 2>\u001b[1;34m()\u001b[0m\n\u001b[0;32m      <a href='vscode-notebook-cell:/c%3A/Users/Marco/Desktop/CMB_Bonus/5_tracks_bonus.ipynb#W2sZmlsZQ%3D%3D?line=0'>1</a>\u001b[0m \u001b[39m# PLOT RESULTS\u001b[39;00m\n\u001b[1;32m----> <a href='vscode-notebook-cell:/c%3A/Users/Marco/Desktop/CMB_Bonus/5_tracks_bonus.ipynb#W2sZmlsZQ%3D%3D?line=1'>2</a>\u001b[0m plt\u001b[39m.\u001b[39;49mplot(parallel_tracks, mean_delays)\n\u001b[0;32m      <a href='vscode-notebook-cell:/c%3A/Users/Marco/Desktop/CMB_Bonus/5_tracks_bonus.ipynb#W2sZmlsZQ%3D%3D?line=2'>3</a>\u001b[0m plt\u001b[39m.\u001b[39mscatter(parallel_tracks, mean_delays)\n\u001b[0;32m      <a href='vscode-notebook-cell:/c%3A/Users/Marco/Desktop/CMB_Bonus/5_tracks_bonus.ipynb#W2sZmlsZQ%3D%3D?line=3'>4</a>\u001b[0m plt\u001b[39m.\u001b[39mxticks(parallel_tracks)\n",
      "File \u001b[1;32mc:\\Users\\Marco\\AppData\\Local\\Programs\\Python\\Python310\\lib\\site-packages\\matplotlib\\pyplot.py:2757\u001b[0m, in \u001b[0;36mplot\u001b[1;34m(scalex, scaley, data, *args, **kwargs)\u001b[0m\n\u001b[0;32m   2755\u001b[0m \u001b[39m@_copy_docstring_and_deprecators\u001b[39m(Axes\u001b[39m.\u001b[39mplot)\n\u001b[0;32m   2756\u001b[0m \u001b[39mdef\u001b[39;00m \u001b[39mplot\u001b[39m(\u001b[39m*\u001b[39margs, scalex\u001b[39m=\u001b[39m\u001b[39mTrue\u001b[39;00m, scaley\u001b[39m=\u001b[39m\u001b[39mTrue\u001b[39;00m, data\u001b[39m=\u001b[39m\u001b[39mNone\u001b[39;00m, \u001b[39m*\u001b[39m\u001b[39m*\u001b[39mkwargs):\n\u001b[1;32m-> 2757\u001b[0m     \u001b[39mreturn\u001b[39;00m gca()\u001b[39m.\u001b[39mplot(\n\u001b[0;32m   2758\u001b[0m         \u001b[39m*\u001b[39margs, scalex\u001b[39m=\u001b[39mscalex, scaley\u001b[39m=\u001b[39mscaley,\n\u001b[0;32m   2759\u001b[0m         \u001b[39m*\u001b[39m\u001b[39m*\u001b[39m({\u001b[39m\"\u001b[39m\u001b[39mdata\u001b[39m\u001b[39m\"\u001b[39m: data} \u001b[39mif\u001b[39;00m data \u001b[39mis\u001b[39;00m \u001b[39mnot\u001b[39;00m \u001b[39mNone\u001b[39;00m \u001b[39melse\u001b[39;00m {}), \u001b[39m*\u001b[39m\u001b[39m*\u001b[39mkwargs)\n",
      "File \u001b[1;32mc:\\Users\\Marco\\AppData\\Local\\Programs\\Python\\Python310\\lib\\site-packages\\matplotlib\\axes\\_axes.py:1632\u001b[0m, in \u001b[0;36mAxes.plot\u001b[1;34m(self, scalex, scaley, data, *args, **kwargs)\u001b[0m\n\u001b[0;32m   1390\u001b[0m \u001b[39m\"\"\"\u001b[39;00m\n\u001b[0;32m   1391\u001b[0m \u001b[39mPlot y versus x as lines and/or markers.\u001b[39;00m\n\u001b[0;32m   1392\u001b[0m \n\u001b[1;32m   (...)\u001b[0m\n\u001b[0;32m   1629\u001b[0m \u001b[39m(``'green'``) or hex strings (``'#008000'``).\u001b[39;00m\n\u001b[0;32m   1630\u001b[0m \u001b[39m\"\"\"\u001b[39;00m\n\u001b[0;32m   1631\u001b[0m kwargs \u001b[39m=\u001b[39m cbook\u001b[39m.\u001b[39mnormalize_kwargs(kwargs, mlines\u001b[39m.\u001b[39mLine2D)\n\u001b[1;32m-> 1632\u001b[0m lines \u001b[39m=\u001b[39m [\u001b[39m*\u001b[39m\u001b[39mself\u001b[39m\u001b[39m.\u001b[39m_get_lines(\u001b[39m*\u001b[39margs, data\u001b[39m=\u001b[39mdata, \u001b[39m*\u001b[39m\u001b[39m*\u001b[39mkwargs)]\n\u001b[0;32m   1633\u001b[0m \u001b[39mfor\u001b[39;00m line \u001b[39min\u001b[39;00m lines:\n\u001b[0;32m   1634\u001b[0m     \u001b[39mself\u001b[39m\u001b[39m.\u001b[39madd_line(line)\n",
      "File \u001b[1;32mc:\\Users\\Marco\\AppData\\Local\\Programs\\Python\\Python310\\lib\\site-packages\\matplotlib\\axes\\_base.py:312\u001b[0m, in \u001b[0;36m_process_plot_var_args.__call__\u001b[1;34m(self, data, *args, **kwargs)\u001b[0m\n\u001b[0;32m    310\u001b[0m     this \u001b[39m+\u001b[39m\u001b[39m=\u001b[39m args[\u001b[39m0\u001b[39m],\n\u001b[0;32m    311\u001b[0m     args \u001b[39m=\u001b[39m args[\u001b[39m1\u001b[39m:]\n\u001b[1;32m--> 312\u001b[0m \u001b[39myield from\u001b[39;00m \u001b[39mself\u001b[39;49m\u001b[39m.\u001b[39;49m_plot_args(this, kwargs)\n",
      "File \u001b[1;32mc:\\Users\\Marco\\AppData\\Local\\Programs\\Python\\Python310\\lib\\site-packages\\matplotlib\\axes\\_base.py:498\u001b[0m, in \u001b[0;36m_process_plot_var_args._plot_args\u001b[1;34m(self, tup, kwargs, return_kwargs)\u001b[0m\n\u001b[0;32m    495\u001b[0m     \u001b[39mself\u001b[39m\u001b[39m.\u001b[39maxes\u001b[39m.\u001b[39myaxis\u001b[39m.\u001b[39mupdate_units(y)\n\u001b[0;32m    497\u001b[0m \u001b[39mif\u001b[39;00m x\u001b[39m.\u001b[39mshape[\u001b[39m0\u001b[39m] \u001b[39m!=\u001b[39m y\u001b[39m.\u001b[39mshape[\u001b[39m0\u001b[39m]:\n\u001b[1;32m--> 498\u001b[0m     \u001b[39mraise\u001b[39;00m \u001b[39mValueError\u001b[39;00m(\u001b[39mf\u001b[39m\u001b[39m\"\u001b[39m\u001b[39mx and y must have same first dimension, but \u001b[39m\u001b[39m\"\u001b[39m\n\u001b[0;32m    499\u001b[0m                      \u001b[39mf\u001b[39m\u001b[39m\"\u001b[39m\u001b[39mhave shapes \u001b[39m\u001b[39m{\u001b[39;00mx\u001b[39m.\u001b[39mshape\u001b[39m}\u001b[39;00m\u001b[39m and \u001b[39m\u001b[39m{\u001b[39;00my\u001b[39m.\u001b[39mshape\u001b[39m}\u001b[39;00m\u001b[39m\"\u001b[39m)\n\u001b[0;32m    500\u001b[0m \u001b[39mif\u001b[39;00m x\u001b[39m.\u001b[39mndim \u001b[39m>\u001b[39m \u001b[39m2\u001b[39m \u001b[39mor\u001b[39;00m y\u001b[39m.\u001b[39mndim \u001b[39m>\u001b[39m \u001b[39m2\u001b[39m:\n\u001b[0;32m    501\u001b[0m     \u001b[39mraise\u001b[39;00m \u001b[39mValueError\u001b[39;00m(\u001b[39mf\u001b[39m\u001b[39m\"\u001b[39m\u001b[39mx and y can be no greater than 2D, but have \u001b[39m\u001b[39m\"\u001b[39m\n\u001b[0;32m    502\u001b[0m                      \u001b[39mf\u001b[39m\u001b[39m\"\u001b[39m\u001b[39mshapes \u001b[39m\u001b[39m{\u001b[39;00mx\u001b[39m.\u001b[39mshape\u001b[39m}\u001b[39;00m\u001b[39m and \u001b[39m\u001b[39m{\u001b[39;00my\u001b[39m.\u001b[39mshape\u001b[39m}\u001b[39;00m\u001b[39m\"\u001b[39m)\n",
      "\u001b[1;31mValueError\u001b[0m: x and y must have same first dimension, but have shapes (20,) and (0,)"
     ]
    },
    {
     "data": {
      "image/png": "[encoded data removed]",
      "text/plain": [
       "<Figure size 432x288 with 1 Axes>"
      ]
     },
     "metadata": {
      "needs_background": "light"
     },
     "output_type": "display_data"
    }
   ],
   "source": [
    "# PLOT RESULTS\n",
    "plt.plot(parallel_tracks, mean_delays)\n",
    "plt.scatter(parallel_tracks, mean_delays)\n",
    "plt.xticks(parallel_tracks)\n",
    "plt.ylim(0,40)\n",
    "plt.xlim(1,max(parallel_tracks)+0.2)\n",
    "plt.hlines(30,0,max(parallel_tracks)+0.2,color='red',ls='--',alpha=0.7)\n",
    "plt.xlabel('Number of parallel tracks')\n",
    "plt.ylabel('Mean delay (minutes)')\n",
    "plt.grid()"
   ]
  },
  {
   "cell_type": "code",
   "execution_count": null,
   "metadata": {},
   "outputs": [],
   "source": []
  }
 ],
 "metadata": {
  "kernelspec": {
   "display_name": "Python 3",
   "language": "python",
   "name": "python3"
  },
  "language_info": {
   "codemirror_mode": {
    "name": "ipython",
    "version": 3
   },
   "file_extension": ".py",
   "mimetype": "text/x-python",
   "name": "python",
   "nbconvert_exporter": "python",
   "pygments_lexer": "ipython3",
   "version": "3.10.4"
  },
  "orig_nbformat": 4,
  "vscode": {
   "interpreter": {
    "hash": "af153e239d61b5c0d363f35fe8a0509d492506f382d017c98fa3fb49fce70a72"
   }
  }
 },
 "nbformat": 4,
 "nbformat_minor": 2
}
